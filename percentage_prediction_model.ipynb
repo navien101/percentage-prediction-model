# %% [markdown]
# ## Percentage Prediction ##

# %% [markdown]
# This prediction can be done using a Linear Regression model from sklearn library used for employing machine learning algorithms. Linear Regression algorithm is used when we want an exact value as prediction.

# %%
#Importing the required libraries
import pandas as pd
import numpy as np
import matplotlib.pyplot as plt
import sklearn as skl
%matplotlib.inline

# %% [markdown]
# Importing the data

# %%
data_link = "E:/Non C/Projects/The Sparks Foundation/Percentage Prediction (ML)/study_hours_data.csv"
student_data = pd.read_csv(data_link)
student_data.head()

# %% [markdown]
# Visualizing the data to get a better view of the data. This visulaization can be used for finding relationship between data points which can be helpful for making intitial rough predictions.

# %%
#Using matplotlib for this visualizing purpose
student_data.plot(x='Hours', y='Scores', style='r^')  
plt.title('Hours vs Percentage')  
plt.xlabel('Hours Studied')  
plt.ylabel('Percentage')  
plt.show()

# %% [markdown]
# **As from the scatter plot we can see that there is a trend as per which when the study hour increasse the percentage of the student also increases. So, we use the linear regression model to plot a regression line which can futher be used for predicting the percentage of the student from the study hours data.**

# %% [markdown]
# **Preparing the data** which means using the data and creating label and feature so as to use them for creating the model which can be further used for making the prediction.

# %%
#preparing the data 
x = student_data.iloc[:,:-1].values
y = student_data.iloc[:,1].values


# %% [markdown]
# Now, we got the feature and label which was required for the prediction purpose but we still need to split the data into training data and testing data which has to be used for training the model and then testing before trying it on the real data.

# %%
#spliting the data into test and trainig data using 
from sklearn.model_selection import train_test_split  
x_train, x_test, y_train, y_test = train_test_split(x, y, 
                            test_size=0.2, random_state=0) 

# %% [markdown]
# Now, we can create a model using an algorithm from sklearn. Here, Linear Regression algorithm is used to create the modle which can be used for the prediction. 

# %%
from sklearn.linear_model import LinearRegression  
model = LinearRegression()  
model.fit(x_train, y_train) 

print("Modle has been trained.")

# %%
# Now if we want to plot the regresion line we can use the same model
line = model.coef_*x + model.intercept_

# Plotting for the test data
plt.scatter(x, y, color='red', marker='^')
plt.plot(x, line, color='red');
plt.show()

# %% [markdown]
# ## Making Predciction ##

# %%
# using the test data for the prediction purpose
y_pred = model.predict(x_test)

# %% [markdown]
# Now, we can visualize and analyze predictions using the predicted values and y_test. This can be done using the Pandas DataFrame function.

# %%
comparision = pd.DataFrame({'original_values': y_test, 'predicted_values': y_pred})  
comparision

# %% [markdown]
# We can see there is a slight difference between the predcition and original values. This difference is called error in the prediction.

# %% [markdown]
# The predicted percentage for the 9.5 study hours can be predicted using the same model

# %%
hours = 9.25

hours_2d = np.array(hours).reshape(1, -1)

pred = model.predict(hours_2d)
print("No of Hours = {}".format(hours))
print("Predicted Score = {}".format(pred[0]))

# %% [markdown]
# ## Evaluating the model ##
# - Root Mean Squared Error
# - R2 Score

# %%
# Root Mean Sqaured and R2 Score Error can be calculated easily using a function from sklearn.metric
from sklearn import metrics  
print('Root Mean Sqaured Error Error:', 
      metrics.mean_squared_error(y_test, y_pred)) 

# %%
#R2 Score
from sklearn import metrics  
print('Root Mean Sqaured Error Error:', 
      metrics.r2_score(y_test, y_pred)) 


